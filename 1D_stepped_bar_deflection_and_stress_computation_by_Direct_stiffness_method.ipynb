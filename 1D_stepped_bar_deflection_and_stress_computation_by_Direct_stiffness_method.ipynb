{
  "nbformat": 4,
  "nbformat_minor": 0,
  "metadata": {
    "colab": {
      "provenance": [],
      "authorship_tag": "ABX9TyOYmV4AFz8PrIovVm4wxeTC",
      "include_colab_link": true
    },
    "kernelspec": {
      "name": "python3",
      "display_name": "Python 3"
    },
    "language_info": {
      "name": "python"
    }
  },
  "cells": [
    {
      "cell_type": "markdown",
      "metadata": {
        "id": "view-in-github",
        "colab_type": "text"
      },
      "source": [
        "<a href=\"https://colab.research.google.com/github/TuragDev/ML-Python-Codes/blob/main/1D_stepped_bar_deflection_and_stress_computation_by_Direct_stiffness_method.ipynb\" target=\"_parent\"><img src=\"https://colab.research.google.com/assets/colab-badge.svg\" alt=\"Open In Colab\"/></a>"
      ]
    },
    {
      "cell_type": "code",
      "execution_count": 11,
      "metadata": {
        "id": "8fSkSMM_p8UL"
      },
      "outputs": [],
      "source": [
        "# Deflection and stress of a 1D stepped bar having 3 elements can be computed by this coded\n",
        "# A force is applied at the end of the stepped bar which causes deflection at each node and stress at each elements.\n",
        "# Here, the areas and lengths of each element as well as the value of applied load can be taken as input from the user.\n",
        "# The code will compute the deflection of each node and stress at each elements and show the values as output."
      ]
    },
    {
      "cell_type": "code",
      "source": [
        "import numpy as np"
      ],
      "metadata": {
        "id": "Dki3FVGKoN8B"
      },
      "execution_count": 9,
      "outputs": []
    },
    {
      "cell_type": "code",
      "source": [
        "A1 = float(input(\"Cross sectional area of the element1 = \"))\n",
        "A2 = float(input(\"Cross sectional area of the element2 = \"))\n",
        "A3 = float(input(\"Cross sectional area of the element3 = \"))\n",
        "L1 = float(input(\"Length of element of element1 = \"))\n",
        "L2 = float(input(\"Length of element of element2 = \"))\n",
        "L3 = float(input(\"Length of element of element3 = \"))\n",
        "P = float (input(\" Force applied to the end of element 3 = \"))\n",
        "E = 2e5"
      ],
      "metadata": {
        "colab": {
          "base_uri": "https://localhost:8080/"
        },
        "id": "bH4nPhzUqa30",
        "outputId": "6f8eb00f-3692-446c-da02-eb6e327a3a90"
      },
      "execution_count": 10,
      "outputs": [
        {
          "name": "stdout",
          "output_type": "stream",
          "text": [
            "Cross sectional area of the element1 = 1256.637\n",
            "Cross sectional area of the element2 = 176.71\n",
            "Cross sectional area of the element3 = 706.858\n",
            "Length of element of element1 = 200\n",
            "Length of element of element2 = 500\n",
            "Length of element of element3 = 200\n",
            " Force applied to the end of element 3 = 15000\n"
          ]
        }
      ]
    },
    {
      "cell_type": "code",
      "source": [
        "k1 = (E * A1 / L1) * np.array([[1, -1], [-1, 1]])\n",
        "k2 = (E * A2 / L2) * np.array([[1, -1], [-1, 1]])\n",
        "k3 = (E * A3 / L3) * np.array([[1, -1], [-1, 1]])\n"
      ],
      "metadata": {
        "id": "UlISCg86DYQ7"
      },
      "execution_count": 3,
      "outputs": []
    },
    {
      "cell_type": "code",
      "source": [
        "K = np.zeros((4, 4))\n",
        "K[:2, :2] += k1\n",
        "K[1:3, 1:3] += k2\n",
        "K[2:, 2:] += k3\n"
      ],
      "metadata": {
        "id": "XKXMki4jDkJU"
      },
      "execution_count": 4,
      "outputs": []
    },
    {
      "cell_type": "code",
      "source": [
        "F = np.array([[0], [0], [0], [0]])  # load of P N towards rightward direction at node 4\n",
        "F[3]= P\n",
        "BC = np.array([True, False, False, False])\n"
      ],
      "metadata": {
        "id": "va-ntrJXDx_d"
      },
      "execution_count": 5,
      "outputs": []
    },
    {
      "cell_type": "code",
      "source": [
        "K_reduced = K[~BC, :][:, ~BC]\n",
        "F_reduced = F[~BC]\n",
        "U_reduced = np.linalg.solve(K_reduced, F_reduced)"
      ],
      "metadata": {
        "id": "z2eNhjl0C4n_"
      },
      "execution_count": 6,
      "outputs": []
    },
    {
      "cell_type": "code",
      "source": [
        "U = np.zeros((4, 1))\n",
        "U[~BC] = U_reduced\n",
        "u1= U[0][0]\n",
        "print(\"Deflection at node1 = \",u1)\n",
        "u2= U[1][0]\n",
        "print(\"Deflection at node2 = \",u2)\n",
        "u3= U[2][0]\n",
        "print(\"Deflection at node3 = \",u3)\n",
        "u4= U[3][0]\n",
        "print(\"Deflection at node4 = \",u4)"
      ],
      "metadata": {
        "colab": {
          "base_uri": "https://localhost:8080/"
        },
        "id": "l91lllT-I6Xs",
        "outputId": "4d105639-506a-45f8-9101-4828b5f2166b"
      },
      "execution_count": 7,
      "outputs": [
        {
          "output_type": "stream",
          "name": "stdout",
          "text": [
            "Deflection at node1 =  0.0\n",
            "Deflection at node2 =  0.011936621315463417\n",
            "Deflection at node3 =  0.22414872023459648\n",
            "Deflection at node4 =  0.24536938973257202\n"
          ]
        }
      ]
    },
    {
      "cell_type": "code",
      "source": [
        "s1=(E/L1)*(u2-u1)\n",
        "print(\"Stress at element1 is = \", s1)\n",
        "s2=(E/L2)*(u3-u2)\n",
        "print(\"Stress at element2 is = \", s2)\n",
        "s3=(E/L3)*(u4-u3)\n",
        "print(\"Stress at element3 is = \", s3)"
      ],
      "metadata": {
        "colab": {
          "base_uri": "https://localhost:8080/"
        },
        "id": "BsUZpSf5I43a",
        "outputId": "1a74ae0d-5515-4e52-ad7b-33cd08e2f737"
      },
      "execution_count": 8,
      "outputs": [
        {
          "output_type": "stream",
          "name": "stdout",
          "text": [
            "Stress at element1 is =  11.936621315463418\n",
            "Stress at element2 is =  84.88483956765323\n",
            "Stress at element3 is =  21.220669497975546\n"
          ]
        }
      ]
    }
  ]
}